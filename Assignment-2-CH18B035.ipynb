{
 "cells": [
  {
   "cell_type": "markdown",
   "metadata": {},
   "source": [
    "# EE4371 - DSA - Assignment-2 - CH18B035 - Gunavardhan"
   ]
  },
  {
   "cell_type": "markdown",
   "metadata": {},
   "source": [
    "## Q1 Order the following functions by asymptotic growth rate."
   ]
  },
  {
   "cell_type": "markdown",
   "metadata": {},
   "source": [
    "The asymptotic behavior of a function f(n) (such as f(n)=c*n or f(n)=c*n<sup>2</sup>, etc.) refers to the growth of f(n) as n gets large. We typically ignore small values of n, since we are usually interested in estimating how slow the program will be on large inputs. \n",
    "A good rule of thumb is: the slower the asymptotic growth rate, the better the algorithm (although this is often not the whole story).\n",
    "\n",
    "Thumb rules:\n",
    "1. a*f(n) < b*f(n) if a < b where a, b are constants\n",
    "2. constant < any function of n\n",
    "3. log(n) < n<sup>a</sup>  where a > 1\n",
    "4. In a group of functions the asymtopic behaviour is defined by the function in the order:\n",
    "constant < logarithmic < polynomial < exponential\n",
    "\n",
    "\n",
    "Based on thumb rules order:\n",
    "\n",
    "Step 1 : 2<sup>10</sup>\n",
    "    \n",
    "From thumb rule 2 constant function. Then compare linear functions 3n+log(n), 4n and 2<sup>log(n)</sup>\n",
    "\n",
    "Step 2 : 2<sup>10</sup> < 2<sup>log(n)</sup> < 3n+log(n) < 4n\n",
    "\n",
    "From thumb rules 1&4 i.e., 3n+log(n) ~ 3n < 4n && 2<sup>log10(n)</sup> < 2<sup>log2(n)</sup> ~ n. Then compare 4nlog(n)+2n and nlog(n)\n",
    "\n",
    "Step 3 : 2<sup>10</sup> < 2<sup>log(n)</sup> < 3n+log(n) < 4n < nlog(n) < 4nlog(n)+2n\n",
    "\n",
    "From thumb rules 1&4 i.e., 4nlog(n)+2n ~ 4nlog(n) > nlog(n).Then compare n<sup>3</sup> and n<sup>2</sup>+10n polynomial functions\n",
    "\n",
    "Step 4 : 2<sup>10</sup> < 2<sup>log(n)</sup> < 3n+log(n) < 4n < nlog(n) < 4nlog(n)+2n < n<sup>2</sup>+10n < n<sup>3</sup>\n",
    "\n",
    "From thumb rules 1&4 i.e., n<sup>2</sup>+10n ~ n<sup>2</sup> < n<sup>3</sup>. Then comes exponential functions\n",
    "\n",
    "\n",
    "Hence order is \n",
    "2<sup>10</sup>  <  2<sup>log(n)</sup>  <  3n+log(n)  <  4n < nlog(n)  <  4nlog(n)+2n  <  n<sup>2</sup>+10n  < n<sup>3</sup>  <  2<sup>10</sup>"
   ]
  },
  {
   "cell_type": "markdown",
   "metadata": {},
   "source": [
    "## Q2 In each of the following situations, indicate whether f = O(g) or f = Ω(g). Justify your answer."
   ]
  },
  {
   "cell_type": "markdown",
   "metadata": {},
   "source": [
    "Proving big-O bounds\n",
    "\n",
    "T(n) = O(f(n)) ⇔ ∃ c, n0 > 0 s.t. ∀ n ≥ n0, T(n) ≤ c·f(n)\n",
    "\n",
    "\n",
    "    a) Given f(n) = n-100 & g(n) = n-200                ANS : BOTH f = Θ(g)\n",
    "        Both the given functions are O(n):\n",
    "        \n",
    "        Proof : Take f(n) = n-100, Let c = 2 and n0 = -100 \n",
    "                implies ∀ n >= n0 :-100 <= n implies n-100 <= 2n \n",
    "        Using our choice of c and n0, we have successfully shown that n-100 < c.n\n",
    "        This proves n-100 = O(n)\n",
    "        similar approach for g(n) with c = 2 and n0 = -200 shows n-100 = O(n)\n",
    "        Hence f = Θ(g)\n",
    "    \n",
    "    b) Given f(n) = 100n+logn & g(n) = n+(logn)^2       ANS : BOTH f = Θ(g)\n",
    "        Both the given functions are O(n):\n",
    "        \n",
    "        Proof f(n) is O(n): Let c = 101 and n0 = 1\n",
    "                implies ∀ n >= n0 : logn <= n implies 100n+logn <= 101n\n",
    "        Using our choice of c and n0, we have successfully shown that 100n+logn < c.n\n",
    "        This proves 100n+logn = O(n)\n",
    "        \n",
    "        Proof g(n) is O(n): Let c = 2 and n0 = 1\n",
    "                implies ∀ n >= n0 : (logn)^2 <= n implies n+(logn)^2 <= 2n\n",
    "        Using our choice of c and n0, we have successfully shown that n+(logn)^2 < c.n\n",
    "        This proves n+(logn)^2 = O(n)\n",
    "        Hence f = Θ(g)\n",
    "    \n",
    "    c) Given f(n) = log(2n) & g(n) = log(3n)            ANS : BOTH f = Θ(g)\n",
    "        Both the given functions are O(logn):\n",
    "        \n",
    "        Proof : Take f(n) = log(2n) = log(2) + logn, Let c = 2 and n0 = 2\n",
    "                implies ∀ n >= n0 : log(2) <= log(n) implies log(n)+log(2) <= 2*log(n)\n",
    "        Using our choice of c and n0, we have successfully shown that log(2n) < c.log(n)\n",
    "        This proves log(2n) = O(log(n))\n",
    "        similar approach for g(n) with c = 2 and n0 = 3 shows log(3n) = O(n)\n",
    "        Hence f = Θ(g)\n",
    "        \n",
    "    d) Given f(n) = n^1.01 & g(n) = n*(logn)^2          ANS : f = Ω(g)\n",
    "        Here divide both the equations by 'n'\n",
    "        We get f(n)' = n^.01 & g(n)' = (logn)^2 \n",
    "            From the 1st question thumb rule 4, exponential function always takes over logarithmic functions\n",
    "        Hence for large values n : n^.01 > (logn)^2 \n",
    "        Hence f(n) is upper bound of g(n) i.e., f = Ω(g)"
   ]
  },
  {
   "cell_type": "markdown",
   "metadata": {},
   "source": [
    "## Few algorithms taught in class being used : Mergesort, Binary search\n",
    "<b>Taught in class so not described in full</b>"
   ]
  },
  {
   "cell_type": "markdown",
   "metadata": {},
   "source": [
    "### Mergesort"
   ]
  },
  {
   "cell_type": "markdown",
   "metadata": {},
   "source": [
    "Merge Sort is a Divide and Conquer algorithm. It divides input array in two halves, calls itself for the two halves and then merges the two sorted halves. The merge() function is used for merging two halves. The merge(arr, l, m, r) is key process that assumes that arr[l..m] and arr[m+1..r] are sorted and merges the two sorted sub-arrays into one.\n",
    "\n",
    "<b>Pseudo code</b>"
   ]
  },
  {
   "cell_type": "markdown",
   "metadata": {},
   "source": [
    "MergeSort(arr[], l,  r)\n",
    "If r > l\n",
    "     1. Find the middle point to divide the array into two halves:  \n",
    "             middle m = (l+r)/2\n",
    "     2. Call mergeSort for first half:   \n",
    "             Call mergeSort(arr, l, m)\n",
    "     3. Call mergeSort for second half:\n",
    "             Call mergeSort(arr, m+1, r)\n",
    "     4. Merge the two halves sorted in step 2 and 3:\n",
    "             Call merge(arr, l, m, r)\n",
    "             \n",
    "Timecomplexity : Looking the subproblem as growing tree with array lenght halfing in each level we have logn levels and each level each element is scanned and ordered implies O(n) complexity at each level. Hence total complexity is O(n*logn) ~ O(nlogn)"
   ]
  },
  {
   "cell_type": "code",
   "execution_count": 1,
   "metadata": {},
   "outputs": [],
   "source": [
    "def merge(arr, l, m, r): \n",
    "    n1 = m - l + 1\n",
    "    n2 = r- m \n",
    "  \n",
    "    # create temp arrays \n",
    "    L = [0] * (n1) \n",
    "    R = [0] * (n2) \n",
    "  \n",
    "    # Copy data to temp arrays L[] and R[] \n",
    "    for i in range(0 , n1): \n",
    "        L[i] = arr[l + i] \n",
    "  \n",
    "    for j in range(0 , n2): \n",
    "        R[j] = arr[m + 1 + j] \n",
    "  \n",
    "    # Merge the temp arrays back into arr[l..r] \n",
    "    i = 0     # Initial index of first subarray \n",
    "    j = 0     # Initial index of second subarray \n",
    "    k = l     # Initial index of merged subarray \n",
    "  \n",
    "    while i < n1 and j < n2 : \n",
    "        if L[i] <= R[j]: \n",
    "            arr[k] = L[i] \n",
    "            i += 1\n",
    "        else: \n",
    "            arr[k] = R[j] \n",
    "            j += 1\n",
    "        k += 1\n",
    "  \n",
    "    # Copy the remaining elements of L[], if there \n",
    "    # are any \n",
    "    while i < n1: \n",
    "        arr[k] = L[i] \n",
    "        i += 1\n",
    "        k += 1\n",
    "  \n",
    "    # Copy the remaining elements of R[], if there \n",
    "    # are any \n",
    "    while j < n2: \n",
    "        arr[k] = R[j] \n",
    "        j += 1\n",
    "        k += 1\n",
    "  \n",
    "# l is for left index and r is right index of the \n",
    "# sub-array of arr to be sorted \n",
    "def mergeSort(arr,l,r): \n",
    "    if l < r: \n",
    "  \n",
    "        # Same as (l+r)//2, but avoids overflow for \n",
    "        # large l and h \n",
    "        m = (l+(r-1))//2\n",
    "  \n",
    "        # Sort first and second halves \n",
    "        mergeSort(arr, l, m) \n",
    "        mergeSort(arr, m+1, r) \n",
    "        merge(arr, l, m, r) "
   ]
  },
  {
   "cell_type": "markdown",
   "metadata": {},
   "source": [
    "### Binary search"
   ]
  },
  {
   "cell_type": "markdown",
   "metadata": {},
   "source": [
    "Algorithm takes advantage of a collection of elements that is already sorted by ignoring half of the elements after just one comparison.\n",
    "\n",
    "    1)Compare x with the middle element.\n",
    "    2)If x matches with the middle element, we return the mid index.\n",
    "    3)Else if x is greater than the mid element, then x can only lie in the right (greater) half subarray after the mid element. Then we apply the algorithm again for the right half.\n",
    "    4)Else if x is smaller, the target x must lie in the left (lower) half. So we apply the algorithm for the left half.\n"
   ]
  },
  {
   "cell_type": "markdown",
   "metadata": {},
   "source": [
    "<b>Pseudo Code </b>\n",
    "\n",
    "Procedure binary_search\n",
    "\n",
    "       A ← sorted array\n",
    "       n ← size of array\n",
    "       x ← value to be searched\n",
    "\n",
    "   Set lowerBound = 1\n",
    "   Set upperBound = n \n",
    "\n",
    "   while x not found\n",
    "      if upperBound < lowerBound \n",
    "         EXIT: x does not exists.\n",
    "   \n",
    "      set midPoint = lowerBound + ( upperBound - lowerBound ) / 2\n",
    "      \n",
    "      if A[midPoint] < x\n",
    "         set lowerBound = midPoint + 1\n",
    "         \n",
    "      if A[midPoint] > x\n",
    "         set upperBound = midPoint - 1 \n",
    "\n",
    "      if A[midPoint] = x \n",
    "         EXIT: x found at location midPoint\n",
    "   end while\n",
    "   \n",
    "end procedure\n",
    "\n",
    "\n",
    "Timecomplexity : Our worst case complexity involves element not existing in that case we half the search space from n to single element converging either end (depending on algo.) Hence total time taken is O(logn) to break the array to single element"
   ]
  },
  {
   "cell_type": "markdown",
   "metadata": {},
   "source": [
    "<b>Slight Modification to the binary search implemented: our Binary_Search function returns the index of the element just greater than or equal the given element, but if the given element is already the lowest then it returns -1 </b>"
   ]
  },
  {
   "cell_type": "code",
   "execution_count": 2,
   "metadata": {},
   "outputs": [],
   "source": [
    "def binary_search(arr, x): \n",
    "    low = 0\n",
    "    high = len(arr) - 1\n",
    "    mid = 0\n",
    "  \n",
    "    while low < high:  \n",
    "        \n",
    "        mid = low + (high - low) // 2\n",
    "  \n",
    "        # Check if x is greater than mid, ignore left half\n",
    "        if arr[mid] < x: \n",
    "            low = mid + 1\n",
    "  \n",
    "        # If x is less than or equal to mid, ignore right+1 half \n",
    "        elif arr[mid] >= x: \n",
    "            high = mid\n",
    "  \n",
    "    # If x is smaller than the smallest return -1\n",
    "    if low == 0 and arr[0] > x:\n",
    "        return -1\n",
    "    # return the index of the element just greater than or equal to x\n",
    "    return low"
   ]
  },
  {
   "cell_type": "markdown",
   "metadata": {},
   "source": [
    "## Q3 Describe an efficient algorithm for finding the ten largest elements in a sequence of size ​n​. What is the running time of your algorithm?"
   ]
  },
  {
   "cell_type": "markdown",
   "metadata": {},
   "source": [
    "<b>Aim</b> : To find the 10 largest elements in a sequense of size n.\n",
    "\n",
    "<b>Assumptions</b> : n >= 10 else there arent 10 elements to choose.\n",
    "\n",
    "<b>Aproach 1 : BRUTE FORCE O(N) solution</b>\n",
    "\n",
    "Algorithm Description :\n",
    "    \n",
    "    Step 1 : loop through the array 10 times\n",
    "    Step 2 : each time find the current max element of the array\n",
    "    Step 3 : insert it into resultant array and delete from main array each time\n",
    "    Step 4 : return the resultant array\n",
    "    \n",
    "<b> Pseudo code </b>\n",
    "\n",
    "function(arr):\n",
    "    t = 10\n",
    "    res_arr = [] \n",
    "    ###loop the array 10 times\n",
    "    while t-- :\n",
    "        curr_max = INT_MIN\n",
    "        ###search for max element each time O(N)\n",
    "        for i in arr:\n",
    "            curr_max = max(curr_max, i)\n",
    "        res_arr.append(curr_max)\n",
    "        arr.delete(curr_max)\n",
    "    return res_arr\n",
    "    \n",
    "Time complexity : O(10*N) ~ O(n)\n",
    "\n",
    "<b>Approach 2 : Best way (Heap sort kinda approach using binary sort & merge sort described above)</b>\n",
    "\n",
    "Algorithm Description :\n",
    "\n",
    "    We need just 10 largest elements:\n",
    "    \n",
    "    Step 1 :(constant time O(1)) Create an array of 10 elements named 'res'\n",
    "    \n",
    "    Step 2 :(constant time O(10log10)) Select first 10 elements of given sequence to 'res' and sort them using \n",
    "            merge sort\n",
    "    \n",
    "    Step 3 :(O(n)) Then loop through rest of the elements and insert one by one into the res based on the conditon \n",
    "            mentioned below\n",
    "    \n",
    "    Step 4 :(O(log10)) conditon : binary search for the location the element needs to be inserted in the res array\n",
    "        \n",
    "        case 1 : if binary_search returns i > -1 insert the element in that position and remove the smallest \n",
    "                element that is at zero index\n",
    "        case 2 : if binary_search returns i == -1 implies all the elements of the array are alreay greater than \n",
    "                present element, so continue with no changes\n",
    "    \n",
    "    Step 5 : return the array 'res'\n",
    "    \n",
    "\n",
    "Timecomplexity : O((N-10)*log(10) + 10log(10)) ~ O(N) As mentioned for each step in description\n",
    "\n",
    "<b>Implementation:</b>"
   ]
  },
  {
   "cell_type": "code",
   "execution_count": 3,
   "metadata": {},
   "outputs": [
    {
     "data": {
      "text/plain": [
       "[7, 9, 10, 11, 13, 28, 29, 56, 85, 99]"
      ]
     },
     "execution_count": 3,
     "metadata": {},
     "output_type": "execute_result"
    }
   ],
   "source": [
    "def largest_ten(arr):\n",
    "    #step 1 : creating an array res with intial 10 elements of the given array\n",
    "    res = arr[:10]\n",
    "    \n",
    "    #step 2 : Arranging the obtained array in sorted manner\n",
    "    mergeSort(res, 0, 9)\n",
    "    \n",
    "    #step 3 : Loop through rest of the elements to insert if bigger than the least of 'res' array\n",
    "    for i in range(10, len(arr)):\n",
    "        \n",
    "        #step 4 : Binary_search way to find the index where the element is to be inserted in the sorted array\n",
    "        temp = binary_search(res, arr[i])\n",
    "        if temp != -1:\n",
    "            #step 4 : if found bigger than the least element of the array remove the least and insert the \n",
    "            #current arr[i]\n",
    "            res.insert(temp, arr[i])\n",
    "            res.pop(0)\n",
    "            \n",
    "    #step 5 : return the array 'res'\n",
    "    return res\n",
    "\n",
    "# sample example to check the correctness\n",
    "arr = [10, 11, 9, 3, 4, 1, 13, 29, 28, 99, 56, 85, 7]\n",
    "largest_ten(arr)\n",
    "# output : [7, 9, 10, 11, 13, 28, 29, 56, 85, 99]"
   ]
  },
  {
   "cell_type": "markdown",
   "metadata": {},
   "source": [
    "## Q4.Use the divide and conquer integer multiplication algorithm to multiply the two binary integers 10011011 and 10111010."
   ]
  },
  {
   "cell_type": "markdown",
   "metadata": {},
   "source": [
    "<b>Aim</b> : To multiply two bit strings in divide and conquer fashion.\n",
    "\n",
    "<b>Assumptions</b> : Given bit strings can be of different length.\n",
    "    \n",
    "<b>Que</b> : Divide and conquer approach implies dividing the problem into subproblems\n",
    "\n",
    "<b>Algorithm Deascription :</b>\n",
    "\n",
    "Subproblem : Multiplication of corresponding halfs of the bit strings (half them till its a bit string of length 1) and adding back\n",
    "\n",
    "Time complexity : As described in class n (length of largest binary sequence) is divided into multiplication of single bit subproblems, the tree consists of logn levels with 4^(logn) multiplications hence complexity is O(4^logn) ~ O(n^log4) ~ O(n^2)\n",
    "\n",
    "<b>Pseudo Code :</b>\n",
    "\n",
    "MULTIPLY(x, y) :\n",
    "\n",
    "    if n == 1:\n",
    "        return x*y\n",
    "        \n",
    "    write x as a*2<sup>n/2</sup> + b\n",
    "    write y as c*2<sup>n/2</sup> + d\n",
    "    \n",
    "    ac = MULTIPLY(a, c)\n",
    "    ad = MULTIPLY(a, d)\n",
    "    bc = MULTIPLY(b, c)\n",
    "    bd = MULTIPLY(b, d)\n",
    "    \n",
    "    return ac*2<sup>n</sup> + (ad+bc)*2<sup>n/2</sup> + bd\n",
    "    \n",
    "<b>Implementation : </b>"
   ]
  },
  {
   "cell_type": "code",
   "execution_count": 4,
   "metadata": {},
   "outputs": [
    {
     "name": "stdout",
     "output_type": "stream",
     "text": [
      "28830\n",
      "28\n"
     ]
    }
   ],
   "source": [
    "def len_equalizer(p,q):\n",
    "    # to make sure that we are multiplying arrays of same length by adding 0's if the lengths are not equal\n",
    "    if len(p)>len(q):\n",
    "        for i in range(0,len(p)-len(q)):\n",
    "            q = '0' + q\n",
    "    elif len(p)<len(q):\n",
    "        for i in range(0,len(q)-len(p)):\n",
    "            p = '0' + p\n",
    "    return [len(p),p,q]\n",
    "\n",
    "def MULTIPLY(x,y):\n",
    "    n = len_equalizer(x,y)[0]\n",
    "    if n == 0:\n",
    "        return 0\n",
    "    elif n==1:\n",
    "        return int(x)*int(y)\n",
    "    # partioning the array into 2 halves(divide and conquer)\n",
    "    lh = n//2\n",
    "    rh = n-lh\n",
    "    x1 = len_equalizer(x,y)[1][0:lh]   # accesing first half of array1\n",
    "    xr = len_equalizer(x,y)[1][lh:]    # accesing second half of array1\n",
    "    y1 = len_equalizer(x,y)[2][0:lh]   # accesing first half of array2\n",
    "    yr = len_equalizer(x,y)[2][lh:]    # accesing second half of array2\n",
    "    \n",
    "    p1 = MULTIPLY(x1,y1)    \n",
    "    p2 = MULTIPLY(x1,yr)  #subproblems as shown in pseudo code\n",
    "    p3 = MULTIPLY(xr,y1)\n",
    "    p4 = MULTIPLY(xr,yr)\n",
    "    \n",
    "    return p1*(2**(2*rh))+p2*(2**rh)+p3*(2**rh)+p4\n",
    "   # Time complexity = O(n^2)\n",
    "    \n",
    "\n",
    "# Multiplication asked in the question\n",
    "print(MULTIPLY(str(10011011), str(10111010)))\n",
    "# Output : 28830\n",
    "\n",
    "# Sample example is check correctness\n",
    "print(MULTIPLY(str(111), str(100)))\n",
    "# Output : 28 (7*4)"
   ]
  },
  {
   "cell_type": "markdown",
   "metadata": {},
   "source": [
    "## Q5.You are given a unimodal array of ​n​ distinct elements, meaning that its entries are in increasing order up until its maximum elements, after which its elements are indecreasing order. Give an algorithm to compute the maximum element of a unimodalarray that runs in O(logn)  time."
   ]
  },
  {
   "cell_type": "markdown",
   "metadata": {},
   "source": [
    "<b>Aim</b> : To compute maximum element of unimodalarray that runs in O(logn) time.\n",
    "\n",
    "<b>Assumptions</b> : Given unique elements\n",
    "    \n",
    "<b>Que</b> : time complexity is O(logn) implies hint towards binary search kinda approach\n",
    "\n",
    "<b>Algorithm Deascription :</b>"
   ]
  },
  {
   "cell_type": "markdown",
   "metadata": {},
   "source": [
    "We can view any given sequence in array 'nums' as alternating ascending and descending sequences. By making use of this, and the fact that we can return any peak as the result, we can make use of Binary Search to find the required peak element."
   ]
  },
  {
   "cell_type": "markdown",
   "metadata": {},
   "source": [
    "In case of simple Binary Search, we work on a sorted sequence of numbers and try to find out the required number by reducing the search space at every step. In this case, we use a modification of this simple Binary Search to our advantage. We start off by finding the middle element, 'mid' from the given nums array. If this element happens to be lying in a descending sequence of numbers. or a local falling slope(found by comparing nums[i] to its right neighbour), it means that the peak will always lie towards the left of this element. Thus, we reduce the search space to the left of mid(including itself) and perform the same process on left subarray."
   ]
  },
  {
   "cell_type": "markdown",
   "metadata": {},
   "source": [
    "If the middle element, mid lies in an ascending sequence of numbers, or a rising slope(found by comparing nums[i] to its right neighbour), it obviously implies that the peak lies towards the right of this element. Thus, we reduce the search space to the right of mid and perform the same process on the right subarray."
   ]
  },
  {
   "cell_type": "markdown",
   "metadata": {},
   "source": [
    "In this way, we keep on reducing the search space till we eventually reach a state where only one element is remaining in the search space. This single element is the peak element."
   ]
  },
  {
   "cell_type": "markdown",
   "metadata": {},
   "source": [
    "To see how it works, let's consider the three cases discussed above again.\n",
    "\n",
    "Case 1. All the numbers appear in a descending order. Example [5, 4, 3, 2, 1] In this case, we firstly find 3 as the middle element. Since it lies on a falling slope, we reduce the search space to [5, 4, 3]. For this subarray, 4 happens to be the middle element, which again lies on a falling slope, reducing the search space to [5, 4]. Now, 5 acts as the middle element and it lies on a falling slope, reducing the search space to [5] only. Thus, 5 is returned as the peak correctly.\n",
    "\n",
    "Case 2. All the elements appear in ascending order. Example [1, 2, 3, 4, 5] In this case, we firstly find 3 as the middle element. Since it lies on a rising slope, we reduce the search space to [4, 5]. Now, 4 acts as the middle element for this subarray and it lies on a rising slope, reducing the search space to [5] only. Thus, 5 is returned as the peak correctly.\n",
    "\n",
    "Case 3. The peak appears somewhere in the middle. Example [2, 3, 4, 5, 1] In this case, the peak lies somewhere in the middle. The first middle element is 4. It lies on a rising slope, indicating that the peak lies towards its right. Thus, the search space is reduced to [5, 1]. Now, 5 happens to be the on a falling slope(relative to its right neighbour), reducing the search space to [5] only. Thus, 5 is identified as the peak element correctly.\n",
    "\n",
    "Based on the description:\n",
    "Time complexity : O(log(n)). We reduce the search space in half at every step. Thus, the total search space will be consumed in log(n) steps. Here, n refers to the size of nums array.\n",
    "\n",
    "<b>Implementation </b>"
   ]
  },
  {
   "cell_type": "code",
   "execution_count": 5,
   "metadata": {},
   "outputs": [
    {
     "name": "stdout",
     "output_type": "stream",
     "text": [
      "8\n",
      "6\n",
      "9\n"
     ]
    }
   ],
   "source": [
    "def findMaxElement(arr): \n",
    "    low = 0\n",
    "    high = len(arr) - 1\n",
    "    mid = 0\n",
    "  \n",
    "    while low < high:  \n",
    "        \n",
    "        mid = low + (high - low) // 2\n",
    "  \n",
    "        # Check if mid is greater than mid+1, ignore right half\n",
    "        if arr[mid] >  arr[mid+1]: \n",
    "            high = mid\n",
    "  \n",
    "        #  Ignore left half \n",
    "        else: \n",
    "            low = mid + 1\n",
    "  \n",
    "    # Return the element with the index low\n",
    "    return arr[low]\n",
    "\n",
    "# sample example1 to check the correctness\n",
    "nums = [1, 2, 3, 5, 8, 4, 0]\n",
    "print(findMaxElement(nums))\n",
    "# output : 8\n",
    "\n",
    "# sample example2 to check the correctness\n",
    "nums = [1, 2, 3, 5, 6]\n",
    "print(findMaxElement(nums))\n",
    "# output : 6\n",
    "\n",
    "# sample example3 to check the correctness\n",
    "nums = [9, 7, 6, 4, 3, 1]\n",
    "print(findMaxElement(nums))\n",
    "# output : 9"
   ]
  },
  {
   "cell_type": "markdown",
   "metadata": {},
   "source": [
    "## Q6.You are given an array of n elements, and you notice that some of the elements are duplicates; that is, they appear more than once in array. Show how to remove all duplicates from the array in time (nlogn)."
   ]
  },
  {
   "cell_type": "markdown",
   "metadata": {},
   "source": [
    "<b>Aim</b> : To remove duplicates from the array in O(nlogn) time.\n",
    "\n",
    "<b>Assumptions</b> : Given array has duplicate elements, order need not be preserved\n",
    "    \n",
    "<b>Que</b> : Time complexity required is O(nlogn) implies hint towards merge sort kinda approach\n",
    "\n",
    "<b>Algorithm Deascription :</b>"
   ]
  },
  {
   "cell_type": "markdown",
   "metadata": {},
   "source": [
    "Step 1 : \n",
    "\n",
    "(O(nlogn)) Sort the array using the merge sort described above.\n",
    "\n",
    "Step 2 :\n",
    "\n",
    "(O(n)) Since the array is sorted, we can keep two pointers i and j, where i is the slow-runner while j is the fast-runner. \n",
    "    \n",
    "    Case 1 : As long as nums[i]=nums[j], we increment j to skip the duplicate.\n",
    "\n",
    "    Case 2 : When we encounter nums[j]≠nums[i], the duplicate run has ended so we must copy its value to nums[i+1]. i is then incremented and we repeat the same process again until j reaches the end of array\n",
    "\n",
    "Timecomplexity : O(nlog(n) + n) ~ O(nlogn)\n",
    "\n",
    "<b> Implementation </b>"
   ]
  },
  {
   "cell_type": "code",
   "execution_count": 6,
   "metadata": {},
   "outputs": [
    {
     "name": "stdout",
     "output_type": "stream",
     "text": [
      "[1, 2, 3, 4, 5, 6]\n"
     ]
    }
   ],
   "source": [
    "def remove_duplicates(arr):\n",
    "    \n",
    "    #step 1 : as described sort the array using mergesort\n",
    "    mergeSort(arr, 0, len(arr)-1)\n",
    "    \n",
    "    #step 2 : checking for duplicates in single pass of array\n",
    "    i = 0\n",
    "    j = 1\n",
    "    while j < len(arr):\n",
    "        \n",
    "        #case 2 : not equal implies we must copy j value to i+1 value index\n",
    "        if arr[j] != arr[i]:\n",
    "            i += 1\n",
    "            arr[i] = arr[j]\n",
    "        j += 1\n",
    "        # each step array till i+1 is duplicates free\n",
    "    \n",
    "    return arr[:i+1]\n",
    "    \n",
    "# sample example for checking correctness\n",
    "nums = [1, 1, 2, 3, 4, 5, 6, 5, 3, 2]\n",
    "print(remove_duplicates(nums))\n",
    "# Output : [1, 2, 3, 4, 5, 6]"
   ]
  },
  {
   "cell_type": "markdown",
   "metadata": {},
   "source": [
    "<b>Approach 2 : Note not for evaluation</b> If we want order to be preserved\n",
    "\n",
    "We can take the given array of numbers and change it to array of pairs <int, int> with pairs representing <key/element, index of the key/element>\n",
    "\n",
    "Then use the same approach before with mergesort on key if clash sort based on index value and clear all duplicate elements same as approach 1\n",
    "\n",
    "Then as a final additinal step use mergesort again this time on index key (Secondary key)\n",
    "\n",
    "Then return the primary key order of the resultant array\n",
    "\n",
    "Hence we get the order preserved based on first occurance and still keeping the complexity O(nlogn + n + tlogt) ~ O(nlogn) (Here t is number of distinct elements)"
   ]
  }
 ],
 "metadata": {
  "kernelspec": {
   "display_name": "Python 3",
   "language": "python",
   "name": "python3"
  },
  "language_info": {
   "codemirror_mode": {
    "name": "ipython",
    "version": 3
   },
   "file_extension": ".py",
   "mimetype": "text/x-python",
   "name": "python",
   "nbconvert_exporter": "python",
   "pygments_lexer": "ipython3",
   "version": "3.7.6"
  }
 },
 "nbformat": 4,
 "nbformat_minor": 4
}
